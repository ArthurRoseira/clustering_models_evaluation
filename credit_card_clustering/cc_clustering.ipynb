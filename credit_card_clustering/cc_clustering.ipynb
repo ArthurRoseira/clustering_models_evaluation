{
 "cells": [
  {
   "cell_type": "markdown",
   "metadata": {},
   "source": [
    "# Credit Card Segmentation Model\n"
   ]
  },
  {
   "cell_type": "code",
   "execution_count": 14,
   "metadata": {},
   "outputs": [],
   "source": [
    "import pandas as pd\n",
    "import numpy as np\n",
    "import matplotlib.pyplot as plt\n",
    "import seaborn as sns\n",
    "from scipy.stats import normaltest\n",
    "from sklearn.preprocessing import PowerTransformer\n",
    "from sklearn.preprocessing import MinMaxScaler\n",
    "from sklearn.cluster import KMeans,DBSCAN,SpectralClustering\n",
    "from sklearn.metrics import silhouette_samples, silhouette_score,davies_bouldin_score\n",
    "%matplotlib inline"
   ]
  },
  {
   "cell_type": "code",
   "execution_count": 15,
   "metadata": {},
   "outputs": [
    {
     "data": {
      "text/html": [
       "<div>\n",
       "<style scoped>\n",
       "    .dataframe tbody tr th:only-of-type {\n",
       "        vertical-align: middle;\n",
       "    }\n",
       "\n",
       "    .dataframe tbody tr th {\n",
       "        vertical-align: top;\n",
       "    }\n",
       "\n",
       "    .dataframe thead th {\n",
       "        text-align: right;\n",
       "    }\n",
       "</style>\n",
       "<table border=\"1\" class=\"dataframe\">\n",
       "  <thead>\n",
       "    <tr style=\"text-align: right;\">\n",
       "      <th></th>\n",
       "      <th>CUST_ID</th>\n",
       "      <th>BALANCE</th>\n",
       "      <th>BALANCE_FREQUENCY</th>\n",
       "      <th>PURCHASES</th>\n",
       "      <th>ONEOFF_PURCHASES</th>\n",
       "      <th>INSTALLMENTS_PURCHASES</th>\n",
       "      <th>CASH_ADVANCE</th>\n",
       "      <th>PURCHASES_FREQUENCY</th>\n",
       "      <th>ONEOFF_PURCHASES_FREQUENCY</th>\n",
       "      <th>PURCHASES_INSTALLMENTS_FREQUENCY</th>\n",
       "      <th>CASH_ADVANCE_FREQUENCY</th>\n",
       "      <th>CASH_ADVANCE_TRX</th>\n",
       "      <th>PURCHASES_TRX</th>\n",
       "      <th>CREDIT_LIMIT</th>\n",
       "      <th>PAYMENTS</th>\n",
       "      <th>MINIMUM_PAYMENTS</th>\n",
       "      <th>PRC_FULL_PAYMENT</th>\n",
       "      <th>TENURE</th>\n",
       "    </tr>\n",
       "  </thead>\n",
       "  <tbody>\n",
       "    <tr>\n",
       "      <th>0</th>\n",
       "      <td>C10001</td>\n",
       "      <td>40.900749</td>\n",
       "      <td>0.818182</td>\n",
       "      <td>95.40</td>\n",
       "      <td>0.00</td>\n",
       "      <td>95.4</td>\n",
       "      <td>0.000000</td>\n",
       "      <td>0.166667</td>\n",
       "      <td>0.000000</td>\n",
       "      <td>0.083333</td>\n",
       "      <td>0.000000</td>\n",
       "      <td>0</td>\n",
       "      <td>2</td>\n",
       "      <td>1000.0</td>\n",
       "      <td>201.802084</td>\n",
       "      <td>139.509787</td>\n",
       "      <td>0.000000</td>\n",
       "      <td>12</td>\n",
       "    </tr>\n",
       "    <tr>\n",
       "      <th>1</th>\n",
       "      <td>C10002</td>\n",
       "      <td>3202.467416</td>\n",
       "      <td>0.909091</td>\n",
       "      <td>0.00</td>\n",
       "      <td>0.00</td>\n",
       "      <td>0.0</td>\n",
       "      <td>6442.945483</td>\n",
       "      <td>0.000000</td>\n",
       "      <td>0.000000</td>\n",
       "      <td>0.000000</td>\n",
       "      <td>0.250000</td>\n",
       "      <td>4</td>\n",
       "      <td>0</td>\n",
       "      <td>7000.0</td>\n",
       "      <td>4103.032597</td>\n",
       "      <td>1072.340217</td>\n",
       "      <td>0.222222</td>\n",
       "      <td>12</td>\n",
       "    </tr>\n",
       "    <tr>\n",
       "      <th>2</th>\n",
       "      <td>C10003</td>\n",
       "      <td>2495.148862</td>\n",
       "      <td>1.000000</td>\n",
       "      <td>773.17</td>\n",
       "      <td>773.17</td>\n",
       "      <td>0.0</td>\n",
       "      <td>0.000000</td>\n",
       "      <td>1.000000</td>\n",
       "      <td>1.000000</td>\n",
       "      <td>0.000000</td>\n",
       "      <td>0.000000</td>\n",
       "      <td>0</td>\n",
       "      <td>12</td>\n",
       "      <td>7500.0</td>\n",
       "      <td>622.066742</td>\n",
       "      <td>627.284787</td>\n",
       "      <td>0.000000</td>\n",
       "      <td>12</td>\n",
       "    </tr>\n",
       "    <tr>\n",
       "      <th>3</th>\n",
       "      <td>C10004</td>\n",
       "      <td>1666.670542</td>\n",
       "      <td>0.636364</td>\n",
       "      <td>1499.00</td>\n",
       "      <td>1499.00</td>\n",
       "      <td>0.0</td>\n",
       "      <td>205.788017</td>\n",
       "      <td>0.083333</td>\n",
       "      <td>0.083333</td>\n",
       "      <td>0.000000</td>\n",
       "      <td>0.083333</td>\n",
       "      <td>1</td>\n",
       "      <td>1</td>\n",
       "      <td>7500.0</td>\n",
       "      <td>0.000000</td>\n",
       "      <td>NaN</td>\n",
       "      <td>0.000000</td>\n",
       "      <td>12</td>\n",
       "    </tr>\n",
       "    <tr>\n",
       "      <th>4</th>\n",
       "      <td>C10005</td>\n",
       "      <td>817.714335</td>\n",
       "      <td>1.000000</td>\n",
       "      <td>16.00</td>\n",
       "      <td>16.00</td>\n",
       "      <td>0.0</td>\n",
       "      <td>0.000000</td>\n",
       "      <td>0.083333</td>\n",
       "      <td>0.083333</td>\n",
       "      <td>0.000000</td>\n",
       "      <td>0.000000</td>\n",
       "      <td>0</td>\n",
       "      <td>1</td>\n",
       "      <td>1200.0</td>\n",
       "      <td>678.334763</td>\n",
       "      <td>244.791237</td>\n",
       "      <td>0.000000</td>\n",
       "      <td>12</td>\n",
       "    </tr>\n",
       "  </tbody>\n",
       "</table>\n",
       "</div>"
      ],
      "text/plain": [
       "  CUST_ID      BALANCE  BALANCE_FREQUENCY  PURCHASES  ONEOFF_PURCHASES  \\\n",
       "0  C10001    40.900749           0.818182      95.40              0.00   \n",
       "1  C10002  3202.467416           0.909091       0.00              0.00   \n",
       "2  C10003  2495.148862           1.000000     773.17            773.17   \n",
       "3  C10004  1666.670542           0.636364    1499.00           1499.00   \n",
       "4  C10005   817.714335           1.000000      16.00             16.00   \n",
       "\n",
       "   INSTALLMENTS_PURCHASES  CASH_ADVANCE  PURCHASES_FREQUENCY  \\\n",
       "0                    95.4      0.000000             0.166667   \n",
       "1                     0.0   6442.945483             0.000000   \n",
       "2                     0.0      0.000000             1.000000   \n",
       "3                     0.0    205.788017             0.083333   \n",
       "4                     0.0      0.000000             0.083333   \n",
       "\n",
       "   ONEOFF_PURCHASES_FREQUENCY  PURCHASES_INSTALLMENTS_FREQUENCY  \\\n",
       "0                    0.000000                          0.083333   \n",
       "1                    0.000000                          0.000000   \n",
       "2                    1.000000                          0.000000   \n",
       "3                    0.083333                          0.000000   \n",
       "4                    0.083333                          0.000000   \n",
       "\n",
       "   CASH_ADVANCE_FREQUENCY  CASH_ADVANCE_TRX  PURCHASES_TRX  CREDIT_LIMIT  \\\n",
       "0                0.000000                 0              2        1000.0   \n",
       "1                0.250000                 4              0        7000.0   \n",
       "2                0.000000                 0             12        7500.0   \n",
       "3                0.083333                 1              1        7500.0   \n",
       "4                0.000000                 0              1        1200.0   \n",
       "\n",
       "      PAYMENTS  MINIMUM_PAYMENTS  PRC_FULL_PAYMENT  TENURE  \n",
       "0   201.802084        139.509787          0.000000      12  \n",
       "1  4103.032597       1072.340217          0.222222      12  \n",
       "2   622.066742        627.284787          0.000000      12  \n",
       "3     0.000000               NaN          0.000000      12  \n",
       "4   678.334763        244.791237          0.000000      12  "
      ]
     },
     "execution_count": 15,
     "metadata": {},
     "output_type": "execute_result"
    }
   ],
   "source": [
    "cc_info = pd.read_csv('CC GENERAL.csv')\n",
    "cc_info.head(5)"
   ]
  },
  {
   "cell_type": "markdown",
   "metadata": {},
   "source": [
    "### Checking Null values"
   ]
  },
  {
   "cell_type": "code",
   "execution_count": 16,
   "metadata": {},
   "outputs": [],
   "source": [
    "cc_info = cc_info.dropna()"
   ]
  },
  {
   "cell_type": "code",
   "execution_count": 17,
   "metadata": {},
   "outputs": [
    {
     "name": "stdout",
     "output_type": "stream",
     "text": [
      "<class 'pandas.core.frame.DataFrame'>\n",
      "Int64Index: 8636 entries, 0 to 8949\n",
      "Data columns (total 18 columns):\n",
      " #   Column                            Non-Null Count  Dtype  \n",
      "---  ------                            --------------  -----  \n",
      " 0   CUST_ID                           8636 non-null   object \n",
      " 1   BALANCE                           8636 non-null   float64\n",
      " 2   BALANCE_FREQUENCY                 8636 non-null   float64\n",
      " 3   PURCHASES                         8636 non-null   float64\n",
      " 4   ONEOFF_PURCHASES                  8636 non-null   float64\n",
      " 5   INSTALLMENTS_PURCHASES            8636 non-null   float64\n",
      " 6   CASH_ADVANCE                      8636 non-null   float64\n",
      " 7   PURCHASES_FREQUENCY               8636 non-null   float64\n",
      " 8   ONEOFF_PURCHASES_FREQUENCY        8636 non-null   float64\n",
      " 9   PURCHASES_INSTALLMENTS_FREQUENCY  8636 non-null   float64\n",
      " 10  CASH_ADVANCE_FREQUENCY            8636 non-null   float64\n",
      " 11  CASH_ADVANCE_TRX                  8636 non-null   int64  \n",
      " 12  PURCHASES_TRX                     8636 non-null   int64  \n",
      " 13  CREDIT_LIMIT                      8636 non-null   float64\n",
      " 14  PAYMENTS                          8636 non-null   float64\n",
      " 15  MINIMUM_PAYMENTS                  8636 non-null   float64\n",
      " 16  PRC_FULL_PAYMENT                  8636 non-null   float64\n",
      " 17  TENURE                            8636 non-null   int64  \n",
      "dtypes: float64(14), int64(3), object(1)\n",
      "memory usage: 1.3+ MB\n"
     ]
    }
   ],
   "source": [
    "cc_info.info()"
   ]
  },
  {
   "cell_type": "code",
   "execution_count": 18,
   "metadata": {},
   "outputs": [
    {
     "data": {
      "text/html": [
       "<div>\n",
       "<style scoped>\n",
       "    .dataframe tbody tr th:only-of-type {\n",
       "        vertical-align: middle;\n",
       "    }\n",
       "\n",
       "    .dataframe tbody tr th {\n",
       "        vertical-align: top;\n",
       "    }\n",
       "\n",
       "    .dataframe thead th {\n",
       "        text-align: right;\n",
       "    }\n",
       "</style>\n",
       "<table border=\"1\" class=\"dataframe\">\n",
       "  <thead>\n",
       "    <tr style=\"text-align: right;\">\n",
       "      <th></th>\n",
       "      <th>count</th>\n",
       "      <th>mean</th>\n",
       "      <th>std</th>\n",
       "      <th>min</th>\n",
       "      <th>25%</th>\n",
       "      <th>50%</th>\n",
       "      <th>75%</th>\n",
       "      <th>max</th>\n",
       "    </tr>\n",
       "  </thead>\n",
       "  <tbody>\n",
       "    <tr>\n",
       "      <th>BALANCE</th>\n",
       "      <td>8636.0</td>\n",
       "      <td>1601.224893</td>\n",
       "      <td>2095.571300</td>\n",
       "      <td>0.000000</td>\n",
       "      <td>148.095189</td>\n",
       "      <td>916.855459</td>\n",
       "      <td>2105.195853</td>\n",
       "      <td>19043.13856</td>\n",
       "    </tr>\n",
       "    <tr>\n",
       "      <th>BALANCE_FREQUENCY</th>\n",
       "      <td>8636.0</td>\n",
       "      <td>0.895035</td>\n",
       "      <td>0.207697</td>\n",
       "      <td>0.000000</td>\n",
       "      <td>0.909091</td>\n",
       "      <td>1.000000</td>\n",
       "      <td>1.000000</td>\n",
       "      <td>1.00000</td>\n",
       "    </tr>\n",
       "    <tr>\n",
       "      <th>PURCHASES</th>\n",
       "      <td>8636.0</td>\n",
       "      <td>1025.433874</td>\n",
       "      <td>2167.107984</td>\n",
       "      <td>0.000000</td>\n",
       "      <td>43.367500</td>\n",
       "      <td>375.405000</td>\n",
       "      <td>1145.980000</td>\n",
       "      <td>49039.57000</td>\n",
       "    </tr>\n",
       "    <tr>\n",
       "      <th>ONEOFF_PURCHASES</th>\n",
       "      <td>8636.0</td>\n",
       "      <td>604.901438</td>\n",
       "      <td>1684.307803</td>\n",
       "      <td>0.000000</td>\n",
       "      <td>0.000000</td>\n",
       "      <td>44.995000</td>\n",
       "      <td>599.100000</td>\n",
       "      <td>40761.25000</td>\n",
       "    </tr>\n",
       "    <tr>\n",
       "      <th>INSTALLMENTS_PURCHASES</th>\n",
       "      <td>8636.0</td>\n",
       "      <td>420.843533</td>\n",
       "      <td>917.245182</td>\n",
       "      <td>0.000000</td>\n",
       "      <td>0.000000</td>\n",
       "      <td>94.785000</td>\n",
       "      <td>484.147500</td>\n",
       "      <td>22500.00000</td>\n",
       "    </tr>\n",
       "    <tr>\n",
       "      <th>CASH_ADVANCE</th>\n",
       "      <td>8636.0</td>\n",
       "      <td>994.175523</td>\n",
       "      <td>2121.458303</td>\n",
       "      <td>0.000000</td>\n",
       "      <td>0.000000</td>\n",
       "      <td>0.000000</td>\n",
       "      <td>1132.385490</td>\n",
       "      <td>47137.21176</td>\n",
       "    </tr>\n",
       "    <tr>\n",
       "      <th>PURCHASES_FREQUENCY</th>\n",
       "      <td>8636.0</td>\n",
       "      <td>0.496000</td>\n",
       "      <td>0.401273</td>\n",
       "      <td>0.000000</td>\n",
       "      <td>0.083333</td>\n",
       "      <td>0.500000</td>\n",
       "      <td>0.916667</td>\n",
       "      <td>1.00000</td>\n",
       "    </tr>\n",
       "    <tr>\n",
       "      <th>ONEOFF_PURCHASES_FREQUENCY</th>\n",
       "      <td>8636.0</td>\n",
       "      <td>0.205909</td>\n",
       "      <td>0.300054</td>\n",
       "      <td>0.000000</td>\n",
       "      <td>0.000000</td>\n",
       "      <td>0.083333</td>\n",
       "      <td>0.333333</td>\n",
       "      <td>1.00000</td>\n",
       "    </tr>\n",
       "    <tr>\n",
       "      <th>PURCHASES_INSTALLMENTS_FREQUENCY</th>\n",
       "      <td>8636.0</td>\n",
       "      <td>0.368820</td>\n",
       "      <td>0.398093</td>\n",
       "      <td>0.000000</td>\n",
       "      <td>0.000000</td>\n",
       "      <td>0.166667</td>\n",
       "      <td>0.750000</td>\n",
       "      <td>1.00000</td>\n",
       "    </tr>\n",
       "    <tr>\n",
       "      <th>CASH_ADVANCE_FREQUENCY</th>\n",
       "      <td>8636.0</td>\n",
       "      <td>0.137604</td>\n",
       "      <td>0.201791</td>\n",
       "      <td>0.000000</td>\n",
       "      <td>0.000000</td>\n",
       "      <td>0.000000</td>\n",
       "      <td>0.250000</td>\n",
       "      <td>1.50000</td>\n",
       "    </tr>\n",
       "    <tr>\n",
       "      <th>CASH_ADVANCE_TRX</th>\n",
       "      <td>8636.0</td>\n",
       "      <td>3.313918</td>\n",
       "      <td>6.912506</td>\n",
       "      <td>0.000000</td>\n",
       "      <td>0.000000</td>\n",
       "      <td>0.000000</td>\n",
       "      <td>4.000000</td>\n",
       "      <td>123.00000</td>\n",
       "    </tr>\n",
       "    <tr>\n",
       "      <th>PURCHASES_TRX</th>\n",
       "      <td>8636.0</td>\n",
       "      <td>15.033233</td>\n",
       "      <td>25.180468</td>\n",
       "      <td>0.000000</td>\n",
       "      <td>1.000000</td>\n",
       "      <td>7.000000</td>\n",
       "      <td>18.000000</td>\n",
       "      <td>358.00000</td>\n",
       "    </tr>\n",
       "    <tr>\n",
       "      <th>CREDIT_LIMIT</th>\n",
       "      <td>8636.0</td>\n",
       "      <td>4522.091030</td>\n",
       "      <td>3659.240379</td>\n",
       "      <td>50.000000</td>\n",
       "      <td>1600.000000</td>\n",
       "      <td>3000.000000</td>\n",
       "      <td>6500.000000</td>\n",
       "      <td>30000.00000</td>\n",
       "    </tr>\n",
       "    <tr>\n",
       "      <th>PAYMENTS</th>\n",
       "      <td>8636.0</td>\n",
       "      <td>1784.478099</td>\n",
       "      <td>2909.810090</td>\n",
       "      <td>0.049513</td>\n",
       "      <td>418.559237</td>\n",
       "      <td>896.675701</td>\n",
       "      <td>1951.142090</td>\n",
       "      <td>50721.48336</td>\n",
       "    </tr>\n",
       "    <tr>\n",
       "      <th>MINIMUM_PAYMENTS</th>\n",
       "      <td>8636.0</td>\n",
       "      <td>864.304943</td>\n",
       "      <td>2372.566350</td>\n",
       "      <td>0.019163</td>\n",
       "      <td>169.163545</td>\n",
       "      <td>312.452292</td>\n",
       "      <td>825.496463</td>\n",
       "      <td>76406.20752</td>\n",
       "    </tr>\n",
       "    <tr>\n",
       "      <th>PRC_FULL_PAYMENT</th>\n",
       "      <td>8636.0</td>\n",
       "      <td>0.159304</td>\n",
       "      <td>0.296271</td>\n",
       "      <td>0.000000</td>\n",
       "      <td>0.000000</td>\n",
       "      <td>0.000000</td>\n",
       "      <td>0.166667</td>\n",
       "      <td>1.00000</td>\n",
       "    </tr>\n",
       "    <tr>\n",
       "      <th>TENURE</th>\n",
       "      <td>8636.0</td>\n",
       "      <td>11.534391</td>\n",
       "      <td>1.310984</td>\n",
       "      <td>6.000000</td>\n",
       "      <td>12.000000</td>\n",
       "      <td>12.000000</td>\n",
       "      <td>12.000000</td>\n",
       "      <td>12.00000</td>\n",
       "    </tr>\n",
       "  </tbody>\n",
       "</table>\n",
       "</div>"
      ],
      "text/plain": [
       "                                   count         mean          std        min  \\\n",
       "BALANCE                           8636.0  1601.224893  2095.571300   0.000000   \n",
       "BALANCE_FREQUENCY                 8636.0     0.895035     0.207697   0.000000   \n",
       "PURCHASES                         8636.0  1025.433874  2167.107984   0.000000   \n",
       "ONEOFF_PURCHASES                  8636.0   604.901438  1684.307803   0.000000   \n",
       "INSTALLMENTS_PURCHASES            8636.0   420.843533   917.245182   0.000000   \n",
       "CASH_ADVANCE                      8636.0   994.175523  2121.458303   0.000000   \n",
       "PURCHASES_FREQUENCY               8636.0     0.496000     0.401273   0.000000   \n",
       "ONEOFF_PURCHASES_FREQUENCY        8636.0     0.205909     0.300054   0.000000   \n",
       "PURCHASES_INSTALLMENTS_FREQUENCY  8636.0     0.368820     0.398093   0.000000   \n",
       "CASH_ADVANCE_FREQUENCY            8636.0     0.137604     0.201791   0.000000   \n",
       "CASH_ADVANCE_TRX                  8636.0     3.313918     6.912506   0.000000   \n",
       "PURCHASES_TRX                     8636.0    15.033233    25.180468   0.000000   \n",
       "CREDIT_LIMIT                      8636.0  4522.091030  3659.240379  50.000000   \n",
       "PAYMENTS                          8636.0  1784.478099  2909.810090   0.049513   \n",
       "MINIMUM_PAYMENTS                  8636.0   864.304943  2372.566350   0.019163   \n",
       "PRC_FULL_PAYMENT                  8636.0     0.159304     0.296271   0.000000   \n",
       "TENURE                            8636.0    11.534391     1.310984   6.000000   \n",
       "\n",
       "                                          25%          50%          75%  \\\n",
       "BALANCE                            148.095189   916.855459  2105.195853   \n",
       "BALANCE_FREQUENCY                    0.909091     1.000000     1.000000   \n",
       "PURCHASES                           43.367500   375.405000  1145.980000   \n",
       "ONEOFF_PURCHASES                     0.000000    44.995000   599.100000   \n",
       "INSTALLMENTS_PURCHASES               0.000000    94.785000   484.147500   \n",
       "CASH_ADVANCE                         0.000000     0.000000  1132.385490   \n",
       "PURCHASES_FREQUENCY                  0.083333     0.500000     0.916667   \n",
       "ONEOFF_PURCHASES_FREQUENCY           0.000000     0.083333     0.333333   \n",
       "PURCHASES_INSTALLMENTS_FREQUENCY     0.000000     0.166667     0.750000   \n",
       "CASH_ADVANCE_FREQUENCY               0.000000     0.000000     0.250000   \n",
       "CASH_ADVANCE_TRX                     0.000000     0.000000     4.000000   \n",
       "PURCHASES_TRX                        1.000000     7.000000    18.000000   \n",
       "CREDIT_LIMIT                      1600.000000  3000.000000  6500.000000   \n",
       "PAYMENTS                           418.559237   896.675701  1951.142090   \n",
       "MINIMUM_PAYMENTS                   169.163545   312.452292   825.496463   \n",
       "PRC_FULL_PAYMENT                     0.000000     0.000000     0.166667   \n",
       "TENURE                              12.000000    12.000000    12.000000   \n",
       "\n",
       "                                          max  \n",
       "BALANCE                           19043.13856  \n",
       "BALANCE_FREQUENCY                     1.00000  \n",
       "PURCHASES                         49039.57000  \n",
       "ONEOFF_PURCHASES                  40761.25000  \n",
       "INSTALLMENTS_PURCHASES            22500.00000  \n",
       "CASH_ADVANCE                      47137.21176  \n",
       "PURCHASES_FREQUENCY                   1.00000  \n",
       "ONEOFF_PURCHASES_FREQUENCY            1.00000  \n",
       "PURCHASES_INSTALLMENTS_FREQUENCY      1.00000  \n",
       "CASH_ADVANCE_FREQUENCY                1.50000  \n",
       "CASH_ADVANCE_TRX                    123.00000  \n",
       "PURCHASES_TRX                       358.00000  \n",
       "CREDIT_LIMIT                      30000.00000  \n",
       "PAYMENTS                          50721.48336  \n",
       "MINIMUM_PAYMENTS                  76406.20752  \n",
       "PRC_FULL_PAYMENT                      1.00000  \n",
       "TENURE                               12.00000  "
      ]
     },
     "execution_count": 18,
     "metadata": {},
     "output_type": "execute_result"
    }
   ],
   "source": [
    "cc_info.describe().T"
   ]
  },
  {
   "cell_type": "code",
   "execution_count": 19,
   "metadata": {},
   "outputs": [],
   "source": [
    "cc_info = cc_info.drop('CUST_ID',axis = 1)"
   ]
  },
  {
   "cell_type": "code",
   "execution_count": 20,
   "metadata": {},
   "outputs": [],
   "source": [
    "scaler = MinMaxScaler()\n",
    "X = scaler.fit_transform(cc_info)"
   ]
  },
  {
   "cell_type": "markdown",
   "metadata": {},
   "source": [
    "# Clustering Models"
   ]
  },
  {
   "cell_type": "markdown",
   "metadata": {},
   "source": [
    "## DBSCAN"
   ]
  },
  {
   "cell_type": "code",
   "execution_count": 21,
   "metadata": {},
   "outputs": [
    {
     "name": "stdout",
     "output_type": "stream",
     "text": [
      "Estimated number of clusters: 2\n",
      "Estimated number of noise points: 117\n",
      "Silhouette Coefficient: 0.211\n",
      "Davies Bouldin Coefficient: 2.223\n"
     ]
    }
   ],
   "source": [
    "db = DBSCAN(eps=0.4,min_samples=5) # default parameter values\n",
    "db.fit(X)\n",
    "core_samples_mask = np.zeros_like(db.labels_, dtype=bool)\n",
    "core_samples_mask[db.core_sample_indices_] = True\n",
    "labels = db.labels_\n",
    "\n",
    "# Number of clusters in labels, ignoring noise if present.\n",
    "n_clusters_ = len(set(labels)) - (1 if -1 in labels else 0)\n",
    "n_noise_ = list(labels).count(-1)\n",
    "\n",
    "print('Estimated number of clusters: %d' % n_clusters_)\n",
    "print('Estimated number of noise points: %d' % n_noise_)\n",
    "print(\"Silhouette Coefficient: %0.3f\" % silhouette_score(X, labels))\n",
    "print(\"Davies Bouldin Coefficient: %0.3f\" % davies_bouldin_score(X, labels))"
   ]
  },
  {
   "cell_type": "markdown",
   "metadata": {},
   "source": [
    "## K-Means Clustering"
   ]
  },
  {
   "cell_type": "markdown",
   "metadata": {},
   "source": [
    "#### Silhouette scores:"
   ]
  },
  {
   "cell_type": "code",
   "execution_count": 22,
   "metadata": {},
   "outputs": [
    {
     "name": "stdout",
     "output_type": "stream",
     "text": [
      "Silhouette Coefficient: 0.391\n",
      "Davies Bouldin Coefficient: 1.097\n"
     ]
    },
    {
     "data": {
      "text/plain": [
       "<Figure size 1080x432 with 0 Axes>"
      ]
     },
     "metadata": {},
     "output_type": "display_data"
    },
    {
     "data": {
      "image/png": "[encoded data removed]",
      "text/plain": [
       "<Figure size 432x288 with 1 Axes>"
      ]
     },
     "metadata": {
      "needs_background": "light"
     },
     "output_type": "display_data"
    },
    {
     "data": {
      "text/plain": [
       "<Figure size 1080x432 with 0 Axes>"
      ]
     },
     "metadata": {},
     "output_type": "display_data"
    },
    {
     "data": {
      "image/png": "[encoded data removed]",
      "text/plain": [
       "<Figure size 432x288 with 1 Axes>"
      ]
     },
     "metadata": {
      "needs_background": "light"
     },
     "output_type": "display_data"
    }
   ],
   "source": [
    "clusters_range=range(2, 30)\n",
    "results=[]\n",
    "\n",
    "for c in clusters_range:\n",
    "    clusterer=KMeans(n_clusters=c, random_state=0)\n",
    "    cluster_labels=clusterer.fit_predict(X)\n",
    "    silhouette_avg=silhouette_score(X, cluster_labels)\n",
    "    db_index = davies_bouldin_score(X, cluster_labels)\n",
    "    results.append([c,silhouette_avg,db_index])\n",
    "\n",
    "result  =pd.DataFrame(results, columns=[\"n_clusters\",\"silhouette_score\",\"davies_bouldin_score\"])\n",
    "result = result.set_index('n_clusters')\n",
    "\n",
    "print(\"Silhouette Coefficient: %0.3f\" % result[result.index == n_clusters_][\"silhouette_score\"].max())\n",
    "print(\"Davies Bouldin Coefficient: %0.3f\" % result[result.index == n_clusters_][\"davies_bouldin_score\"].max())\n",
    "\n",
    "plt.figure(figsize=(15, 6))\n",
    "result[[\"silhouette_score\"]].plot(kind = 'line')\n",
    "plt.title('K-Means Silhouette Score')\n",
    "plt.tight_layout()\n",
    "\n",
    "plt.figure(figsize=(15, 6))\n",
    "result[[\"davies_bouldin_score\"]].plot(kind = 'line')\n",
    "plt.title('K-Means Davies-Bouldin Score')\n",
    "plt.tight_layout()"
   ]
  },
  {
   "cell_type": "markdown",
   "metadata": {},
   "source": [
    "## Spectral Clustering"
   ]
  },
  {
   "cell_type": "code",
   "execution_count": 23,
   "metadata": {},
   "outputs": [
    {
     "name": "stdout",
     "output_type": "stream",
     "text": [
      "Silhouette Coefficient: 0.393\n",
      "Davies Bouldin Coefficient: 1.103\n"
     ]
    },
    {
     "data": {
      "text/plain": [
       "<Figure size 1080x432 with 0 Axes>"
      ]
     },
     "metadata": {},
     "output_type": "display_data"
    },
    {
     "data": {
      "image/png": "[encoded data removed]",
      "text/plain": [
       "<Figure size 432x288 with 1 Axes>"
      ]
     },
     "metadata": {
      "needs_background": "light"
     },
     "output_type": "display_data"
    },
    {
     "data": {
      "text/plain": [
       "<Figure size 1080x432 with 0 Axes>"
      ]
     },
     "metadata": {},
     "output_type": "display_data"
    },
    {
     "data": {
      "image/png": "[encoded data removed]",
      "text/plain": [
       "<Figure size 432x288 with 1 Axes>"
      ]
     },
     "metadata": {
      "needs_background": "light"
     },
     "output_type": "display_data"
    }
   ],
   "source": [
    "clusters_range=range(2, 30)\n",
    "results=[]\n",
    "\n",
    "for c in clusters_range:\n",
    "    clusterer=SpectralClustering(n_clusters=c)\n",
    "    cluster_labels=clusterer.fit_predict(X)\n",
    "    silhouette_avg=silhouette_score(X, cluster_labels)\n",
    "    db_index = davies_bouldin_score(X, cluster_labels)\n",
    "    results.append([c,silhouette_avg,db_index])\n",
    "\n",
    "result  =pd.DataFrame(results, columns=[\"n_clusters\",\"silhouette_score\",\"davies_bouldin_score\"])\n",
    "result = result.set_index('n_clusters')\n",
    "\n",
    "print(\"Silhouette Coefficient: %0.3f\" % result[result.index == n_clusters_][\"silhouette_score\"].max())\n",
    "print(\"Davies Bouldin Coefficient: %0.3f\" % result[result.index == n_clusters_][\"davies_bouldin_score\"].max())\n",
    "\n",
    "plt.figure(figsize=(15, 6))\n",
    "result[[\"silhouette_score\"]].plot(kind = 'line')\n",
    "plt.title('K-Means Silhouette Score')\n",
    "plt.tight_layout()\n",
    "\n",
    "plt.figure(figsize=(15, 6))\n",
    "result[[\"davies_bouldin_score\"]].plot(kind = 'line')\n",
    "plt.title('K-Means Davies-Bouldin Score')\n",
    "plt.tight_layout()"
   ]
  }
 ],
 "metadata": {
  "kernelspec": {
   "display_name": "Python 3.9.2 64-bit",
   "language": "python",
   "name": "python3"
  },
  "language_info": {
   "codemirror_mode": {
    "name": "ipython",
    "version": 3
   },
   "file_extension": ".py",
   "mimetype": "text/x-python",
   "name": "python",
   "nbconvert_exporter": "python",
   "pygments_lexer": "ipython3",
   "version": "3.9.2"
  },
  "orig_nbformat": 4,
  "vscode": {
   "interpreter": {
    "hash": "d94dd623ed3b60412e923742e7bd0b8a9d7db377f4fcacb3cc176f98d3cd8c58"
   }
  }
 },
 "nbformat": 4,
 "nbformat_minor": 2
}
